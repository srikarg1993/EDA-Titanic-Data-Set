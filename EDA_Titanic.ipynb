{
 "cells": [
  {
   "cell_type": "markdown",
   "id": "4a468e79",
   "metadata": {},
   "source": [
    "## Importing Required Libraries"
   ]
  },
  {
   "cell_type": "code",
   "execution_count": 1,
   "id": "ade83a6c",
   "metadata": {},
   "outputs": [],
   "source": [
    "import matplotlib.pyplot as plt\n",
    "import numpy as np\n",
    "import pandas as pd\n",
    "import seaborn as sns"
   ]
  },
  {
   "cell_type": "code",
   "execution_count": 2,
   "id": "bf0841ee",
   "metadata": {},
   "outputs": [
    {
     "name": "stdout",
     "output_type": "stream",
     "text": [
      "891 rows and 12 columns imported\n"
     ]
    }
   ],
   "source": [
    "# importing the dataset\n",
    "df = pd.read_csv(\"Titanic.csv\")\n",
    "\n",
    "print(f\"{df.shape[0]} rows and {df.shape[1]} columns imported\")"
   ]
  },
  {
   "cell_type": "markdown",
   "id": "8435258c",
   "metadata": {},
   "source": [
    "## Sneak peak into the data"
   ]
  },
  {
   "cell_type": "code",
   "execution_count": 3,
   "id": "3ee3e3e3",
   "metadata": {},
   "outputs": [
    {
     "data": {
      "text/html": [
       "<div>\n",
       "<style scoped>\n",
       "    .dataframe tbody tr th:only-of-type {\n",
       "        vertical-align: middle;\n",
       "    }\n",
       "\n",
       "    .dataframe tbody tr th {\n",
       "        vertical-align: top;\n",
       "    }\n",
       "\n",
       "    .dataframe thead th {\n",
       "        text-align: right;\n",
       "    }\n",
       "</style>\n",
       "<table border=\"1\" class=\"dataframe\">\n",
       "  <thead>\n",
       "    <tr style=\"text-align: right;\">\n",
       "      <th></th>\n",
       "      <th>PassengerId</th>\n",
       "      <th>Survived</th>\n",
       "      <th>Pclass</th>\n",
       "      <th>Name</th>\n",
       "      <th>Sex</th>\n",
       "      <th>Age</th>\n",
       "      <th>SibSp</th>\n",
       "      <th>Parch</th>\n",
       "      <th>Ticket</th>\n",
       "      <th>Fare</th>\n",
       "      <th>Cabin</th>\n",
       "      <th>Embarked</th>\n",
       "    </tr>\n",
       "  </thead>\n",
       "  <tbody>\n",
       "    <tr>\n",
       "      <th>0</th>\n",
       "      <td>1</td>\n",
       "      <td>0</td>\n",
       "      <td>3</td>\n",
       "      <td>Braund, Mr. Owen Harris</td>\n",
       "      <td>male</td>\n",
       "      <td>22.0</td>\n",
       "      <td>1</td>\n",
       "      <td>0</td>\n",
       "      <td>A/5 21171</td>\n",
       "      <td>7.2500</td>\n",
       "      <td>NaN</td>\n",
       "      <td>S</td>\n",
       "    </tr>\n",
       "    <tr>\n",
       "      <th>1</th>\n",
       "      <td>2</td>\n",
       "      <td>1</td>\n",
       "      <td>1</td>\n",
       "      <td>Cumings, Mrs. John Bradley (Florence Briggs Th...</td>\n",
       "      <td>female</td>\n",
       "      <td>38.0</td>\n",
       "      <td>1</td>\n",
       "      <td>0</td>\n",
       "      <td>PC 17599</td>\n",
       "      <td>71.2833</td>\n",
       "      <td>C85</td>\n",
       "      <td>C</td>\n",
       "    </tr>\n",
       "    <tr>\n",
       "      <th>2</th>\n",
       "      <td>3</td>\n",
       "      <td>1</td>\n",
       "      <td>3</td>\n",
       "      <td>Heikkinen, Miss. Laina</td>\n",
       "      <td>female</td>\n",
       "      <td>26.0</td>\n",
       "      <td>0</td>\n",
       "      <td>0</td>\n",
       "      <td>STON/O2. 3101282</td>\n",
       "      <td>7.9250</td>\n",
       "      <td>NaN</td>\n",
       "      <td>S</td>\n",
       "    </tr>\n",
       "    <tr>\n",
       "      <th>3</th>\n",
       "      <td>4</td>\n",
       "      <td>1</td>\n",
       "      <td>1</td>\n",
       "      <td>Futrelle, Mrs. Jacques Heath (Lily May Peel)</td>\n",
       "      <td>female</td>\n",
       "      <td>35.0</td>\n",
       "      <td>1</td>\n",
       "      <td>0</td>\n",
       "      <td>113803</td>\n",
       "      <td>53.1000</td>\n",
       "      <td>C123</td>\n",
       "      <td>S</td>\n",
       "    </tr>\n",
       "    <tr>\n",
       "      <th>4</th>\n",
       "      <td>5</td>\n",
       "      <td>0</td>\n",
       "      <td>3</td>\n",
       "      <td>Allen, Mr. William Henry</td>\n",
       "      <td>male</td>\n",
       "      <td>35.0</td>\n",
       "      <td>0</td>\n",
       "      <td>0</td>\n",
       "      <td>373450</td>\n",
       "      <td>8.0500</td>\n",
       "      <td>NaN</td>\n",
       "      <td>S</td>\n",
       "    </tr>\n",
       "  </tbody>\n",
       "</table>\n",
       "</div>"
      ],
      "text/plain": [
       "   PassengerId  Survived  Pclass  \\\n",
       "0            1         0       3   \n",
       "1            2         1       1   \n",
       "2            3         1       3   \n",
       "3            4         1       1   \n",
       "4            5         0       3   \n",
       "\n",
       "                                                Name     Sex   Age  SibSp  \\\n",
       "0                            Braund, Mr. Owen Harris    male  22.0      1   \n",
       "1  Cumings, Mrs. John Bradley (Florence Briggs Th...  female  38.0      1   \n",
       "2                             Heikkinen, Miss. Laina  female  26.0      0   \n",
       "3       Futrelle, Mrs. Jacques Heath (Lily May Peel)  female  35.0      1   \n",
       "4                           Allen, Mr. William Henry    male  35.0      0   \n",
       "\n",
       "   Parch            Ticket     Fare Cabin Embarked  \n",
       "0      0         A/5 21171   7.2500   NaN        S  \n",
       "1      0          PC 17599  71.2833   C85        C  \n",
       "2      0  STON/O2. 3101282   7.9250   NaN        S  \n",
       "3      0            113803  53.1000  C123        S  \n",
       "4      0            373450   8.0500   NaN        S  "
      ]
     },
     "execution_count": 3,
     "metadata": {},
     "output_type": "execute_result"
    }
   ],
   "source": [
    "# Sneak peek into the data\n",
    "df.head()"
   ]
  },
  {
   "cell_type": "markdown",
   "id": "a5200afd",
   "metadata": {},
   "source": [
    "## Exploring Passenger Statistics"
   ]
  },
  {
   "cell_type": "code",
   "execution_count": 4,
   "id": "06f4a811",
   "metadata": {},
   "outputs": [
    {
     "name": "stdout",
     "output_type": "stream",
     "text": [
      "Total number of passengers on the ship are 891\n",
      "Total number of male passengers on the ship are 577\n",
      "Total number of female passengers on the ship are 314\n",
      "Total number of passengers that survived 342\n",
      "Total number of male passengers that survived are 109\n",
      "Total number of female passengers that survived are 233\n"
     ]
    },
    {
     "data": {
      "image/png": "[encoded data removed]",
      "text/plain": [
       "<Figure size 432x288 with 1 Axes>"
      ]
     },
     "metadata": {
      "needs_background": "light"
     },
     "output_type": "display_data"
    }
   ],
   "source": [
    "# Passenger Statistic Exploration\n",
    "print(f\"Total number of passengers on the ship are {df.PassengerId.max()}\")\n",
    "print(f\"Total number of male passengers on the ship are {df.Sex.value_counts()[0]}\")\n",
    "print(f\"Total number of female passengers on the ship are {df.Sex.value_counts()[1]}\")\n",
    "sns.histplot(data=df, x=\"Sex\", hue=\"Survived\", multiple=\"dodge\")\n",
    "\n",
    "# Survivor Exploration\n",
    "print(f\"Total number of passengers that survived {df.Survived.sum()}\")\n",
    "x = df[df.Sex == \"male\"].Survived.sum()\n",
    "y = df[df.Sex == \"female\"].Survived.sum()\n",
    "print(f\"Total number of male passengers that survived are {x}\")\n",
    "print(f\"Total number of female passengers that survived are {y}\")"
   ]
  },
  {
   "cell_type": "markdown",
   "id": "51a9946e",
   "metadata": {},
   "source": [
    "## Conclusion: Women were proritized in the evacuation process"
   ]
  },
  {
   "cell_type": "code",
   "execution_count": 5,
   "id": "a999ca81",
   "metadata": {},
   "outputs": [
    {
     "name": "stdout",
     "output_type": "stream",
     "text": [
      "177\n",
      "Average age of a male passenger is 30.73\n",
      "Maximum age of a male passenger is 80.0\n",
      "Minimum age of a male passenger is 0.42\n",
      "Average age of a female passenger is 27.92\n",
      "Maximum age of a female passenger is 63.0\n",
      "Minimum age of a female passenger is 0.75\n",
      "0\n"
     ]
    }
   ],
   "source": [
    "# identifying null values in age\n",
    "print(df.Age.isnull().sum())\n",
    "\n",
    "# Demographic Age exploration\n",
    "Male_avg = df[df.Sex == \"male\"][\"Age\"].mean()\n",
    "print(f\"Average age of a male passenger is {round(Male_avg,2)}\")\n",
    "Male_max = df[df.Sex == \"male\"][\"Age\"].max()\n",
    "print(f\"Maximum age of a male passenger is {round(Male_max,2)}\")\n",
    "Male_min = df[df.Sex == \"male\"][\"Age\"].min()\n",
    "print(f\"Minimum age of a male passenger is {round(Male_min,2)}\")\n",
    "\n",
    "# Demographic Age exploration\n",
    "Female_avg = df[df.Sex == \"female\"][\"Age\"].mean()\n",
    "print(f\"Average age of a female passenger is {round(Female_avg,2)}\")\n",
    "Female_max = df[df.Sex == \"female\"][\"Age\"].max()\n",
    "print(f\"Maximum age of a female passenger is {round(Female_max,2)}\")\n",
    "Female_min = df[df.Sex == \"female\"][\"Age\"].min()\n",
    "print(f\"Minimum age of a female passenger is {round(Female_min,2)}\")\n",
    "\n",
    "# replacing null values with average male and female ages.\n",
    "# df[df.Sex == 'male']['Age'].fillna(Male_avg, inplace = True)\n",
    "# df[df.Sex == 'female']['Age'].fillna(Female_avg, inplace = True)\n",
    "\n",
    "mask1 = df.Sex == \"male\"\n",
    "mask2 = df.Sex == \"female\"\n",
    "df.loc[mask1, \"Age\"] = df.loc[mask1, \"Age\"].fillna(Male_avg)\n",
    "df.loc[mask2, \"Age\"] = df.loc[mask2, \"Age\"].fillna(Female_avg)\n",
    "\n",
    "print(df.Age.isnull().sum())"
   ]
  },
  {
   "cell_type": "code",
   "execution_count": 6,
   "id": "6c7b8c96",
   "metadata": {},
   "outputs": [
    {
     "data": {
      "text/plain": [
       "<AxesSubplot:xlabel='Age', ylabel='Count'>"
      ]
     },
     "execution_count": 6,
     "metadata": {},
     "output_type": "execute_result"
    },
    {
     "data": {
      "image/png": "[encoded data removed]",
      "text/plain": [
       "<Figure size 432x288 with 1 Axes>"
      ]
     },
     "metadata": {
      "needs_background": "light"
     },
     "output_type": "display_data"
    }
   ],
   "source": [
    "# Distribution of Age in Males\n",
    "sns.histplot(\n",
    "    data=df[df.Sex == \"male\"], x=\"Age\", hue=\"Survived\", bins=30, multiple=\"fill\"\n",
    ")"
   ]
  },
  {
   "cell_type": "code",
   "execution_count": 7,
   "id": "af027bd4",
   "metadata": {},
   "outputs": [
    {
     "data": {
      "text/plain": [
       "<AxesSubplot:xlabel='Age', ylabel='Count'>"
      ]
     },
     "execution_count": 7,
     "metadata": {},
     "output_type": "execute_result"
    },
    {
     "data": {
      "image/png": "[encoded data removed]",
      "text/plain": [
       "<Figure size 432x288 with 1 Axes>"
      ]
     },
     "metadata": {
      "needs_background": "light"
     },
     "output_type": "display_data"
    }
   ],
   "source": [
    "# Distribution of Age in Females\n",
    "sns.histplot(\n",
    "    data=df[df.Sex == \"female\"], x=\"Age\", hue=\"Survived\", multiple=\"fill\", bins=30\n",
    ")"
   ]
  },
  {
   "cell_type": "markdown",
   "id": "331328b1",
   "metadata": {},
   "source": [
    "## We can observe that children both male and female and older women were prioritized during "
   ]
  },
  {
   "cell_type": "code",
   "execution_count": 8,
   "id": "ae99bc1e",
   "metadata": {},
   "outputs": [
    {
     "data": {
      "text/plain": [
       "<AxesSubplot:xlabel='Age', ylabel='Count'>"
      ]
     },
     "execution_count": 8,
     "metadata": {},
     "output_type": "execute_result"
    },
    {
     "data": {
      "image/png": "[encoded data removed]",
      "text/plain": [
       "<Figure size 432x288 with 1 Axes>"
      ]
     },
     "metadata": {
      "needs_background": "light"
     },
     "output_type": "display_data"
    }
   ],
   "source": [
    "# Distribution of Passenger Population\n",
    "sns.histplot(data=df, x=\"Age\", hue=\"Sex\", bins=20, multiple=\"dodge\", kde=True)"
   ]
  },
  {
   "cell_type": "code",
   "execution_count": 9,
   "id": "ecfd5349",
   "metadata": {},
   "outputs": [
    {
     "data": {
      "text/plain": [
       "<AxesSubplot:xlabel='Sex', ylabel='Age'>"
      ]
     },
     "execution_count": 9,
     "metadata": {},
     "output_type": "execute_result"
    },
    {
     "data": {
      "image/png": "[encoded data removed]",
      "text/plain": [
       "<Figure size 432x288 with 1 Axes>"
      ]
     },
     "metadata": {
      "needs_background": "light"
     },
     "output_type": "display_data"
    }
   ],
   "source": [
    "sns.violinplot(data=df, x=\"Sex\", y=\"Age\")"
   ]
  },
  {
   "cell_type": "markdown",
   "id": "7f15b588",
   "metadata": {},
   "source": [
    "## Ticket Class Distribution"
   ]
  },
  {
   "cell_type": "code",
   "execution_count": 10,
   "id": "2298bb02",
   "metadata": {},
   "outputs": [
    {
     "data": {
      "text/plain": [
       "<AxesSubplot:xlabel='Pclass', ylabel='Count'>"
      ]
     },
     "execution_count": 10,
     "metadata": {},
     "output_type": "execute_result"
    },
    {
     "data": {
      "image/png": "[encoded data removed]",
      "text/plain": [
       "<Figure size 432x288 with 1 Axes>"
      ]
     },
     "metadata": {
      "needs_background": "light"
     },
     "output_type": "display_data"
    }
   ],
   "source": [
    "# Distribution of passengers in class\n",
    "sns.histplot(data=df, x=\"Pclass\", hue=\"Sex\", multiple=\"dodge\")"
   ]
  },
  {
   "cell_type": "markdown",
   "id": "12256843",
   "metadata": {},
   "source": [
    "### Conclusion: Total lower class population is higher"
   ]
  },
  {
   "cell_type": "code",
   "execution_count": 11,
   "id": "d081a129",
   "metadata": {},
   "outputs": [
    {
     "data": {
      "text/plain": [
       "<AxesSubplot:xlabel='Pclass', ylabel='Count'>"
      ]
     },
     "execution_count": 11,
     "metadata": {},
     "output_type": "execute_result"
    },
    {
     "data": {
      "image/png": "[encoded data removed]",
      "text/plain": [
       "<Figure size 432x288 with 1 Axes>"
      ]
     },
     "metadata": {
      "needs_background": "light"
     },
     "output_type": "display_data"
    }
   ],
   "source": [
    "# Effect of Socio - Economic Status on the survival\n",
    "sns.histplot(data=df, x=\"Pclass\", hue=\"Survived\", multiple=\"dodge\")"
   ]
  },
  {
   "cell_type": "markdown",
   "id": "92d3f114",
   "metadata": {},
   "source": [
    "### Conclusion: Higher class passengers were prioritized over lower class passengers in the evacuation process"
   ]
  },
  {
   "cell_type": "markdown",
   "id": "c17d2b1a",
   "metadata": {},
   "source": [
    "### Passenger Distribution based on Port of Embarkation "
   ]
  },
  {
   "cell_type": "code",
   "execution_count": 12,
   "id": "046472e9",
   "metadata": {},
   "outputs": [],
   "source": [
    "# Replacing null values with the mode of this column\n",
    "df[\"Embarked\"].fillna(df.Embarked.mode()[0], inplace=True)"
   ]
  },
  {
   "cell_type": "code",
   "execution_count": 13,
   "id": "540c775f",
   "metadata": {},
   "outputs": [
    {
     "data": {
      "text/plain": [
       "<AxesSubplot:xlabel='Embarked', ylabel='Count'>"
      ]
     },
     "execution_count": 13,
     "metadata": {},
     "output_type": "execute_result"
    },
    {
     "data": {
      "image/png": "[encoded data removed]",
      "text/plain": [
       "<Figure size 432x288 with 1 Axes>"
      ]
     },
     "metadata": {
      "needs_background": "light"
     },
     "output_type": "display_data"
    }
   ],
   "source": [
    "sns.histplot(data=df[df.Sex == \"male\"], x=\"Embarked\", hue=\"Survived\", multiple=\"fill\")"
   ]
  },
  {
   "cell_type": "code",
   "execution_count": 14,
   "id": "0c31b043",
   "metadata": {},
   "outputs": [
    {
     "data": {
      "text/plain": [
       "<AxesSubplot:xlabel='Embarked', ylabel='Count'>"
      ]
     },
     "execution_count": 14,
     "metadata": {},
     "output_type": "execute_result"
    },
    {
     "data": {
      "image/png": "[encoded data removed]",
      "text/plain": [
       "<Figure size 432x288 with 1 Axes>"
      ]
     },
     "metadata": {
      "needs_background": "light"
     },
     "output_type": "display_data"
    }
   ],
   "source": [
    "sns.histplot(data=df[df.Sex == \"female\"], x=\"Embarked\", hue=\"Survived\", multiple=\"fill\")"
   ]
  },
  {
   "cell_type": "markdown",
   "id": "9488e572",
   "metadata": {},
   "source": [
    "### Passenger from Cherbourg are reall quick to escape ;)"
   ]
  },
  {
   "cell_type": "code",
   "execution_count": 15,
   "id": "c3b2f5e2",
   "metadata": {},
   "outputs": [
    {
     "data": {
      "text/plain": [
       "<AxesSubplot:xlabel='Embarked', ylabel='Count'>"
      ]
     },
     "execution_count": 15,
     "metadata": {},
     "output_type": "execute_result"
    },
    {
     "data": {
      "image/png": "[encoded data removed]",
      "text/plain": [
       "<Figure size 432x288 with 1 Axes>"
      ]
     },
     "metadata": {
      "needs_background": "light"
     },
     "output_type": "display_data"
    }
   ],
   "source": [
    "sns.histplot(data=df, x=\"Embarked\", hue=\"Pclass\", multiple=\"fill\")"
   ]
  },
  {
   "cell_type": "markdown",
   "id": "54e37cd6",
   "metadata": {},
   "source": [
    "### This is because majority of the passengers embarking from the Cherbourg port are high-profile or First class passengers and were given priority"
   ]
  },
  {
   "cell_type": "code",
   "execution_count": 16,
   "id": "0e3fe5d1",
   "metadata": {},
   "outputs": [
    {
     "data": {
      "text/plain": [
       "<AxesSubplot:xlabel='Pclass', ylabel='Fare'>"
      ]
     },
     "execution_count": 16,
     "metadata": {},
     "output_type": "execute_result"
    },
    {
     "data": {
      "image/png": "[encoded data removed]",
      "text/plain": [
       "<Figure size 432x288 with 1 Axes>"
      ]
     },
     "metadata": {
      "needs_background": "light"
     },
     "output_type": "display_data"
    }
   ],
   "source": [
    "sns.boxplot(x=df.Pclass, y=df.Fare)"
   ]
  },
  {
   "cell_type": "code",
   "execution_count": null,
   "id": "9f469f3e",
   "metadata": {},
   "outputs": [],
   "source": []
  }
 ],
 "metadata": {
  "kernelspec": {
   "display_name": "Python 3",
   "language": "python",
   "name": "python3"
  },
  "language_info": {
   "codemirror_mode": {
    "name": "ipython",
    "version": 3
   },
   "file_extension": ".py",
   "mimetype": "text/x-python",
   "name": "python",
   "nbconvert_exporter": "python",
   "pygments_lexer": "ipython3",
   "version": "3.8.5"
  }
 },
 "nbformat": 4,
 "nbformat_minor": 5
}
